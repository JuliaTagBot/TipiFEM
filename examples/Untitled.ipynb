{
 "cells": [
  {
   "cell_type": "code",
   "execution_count": 2,
   "metadata": {
    "collapsed": true
   },
   "outputs": [],
   "source": [
    "workspace()"
   ]
  },
  {
   "cell_type": "code",
   "execution_count": 1,
   "metadata": {
    "collapsed": false
   },
   "outputs": [
    {
     "name": "stdout",
     "output_type": "stream",
     "text": [
      "do it\n"
     ]
    },
    {
     "name": "stderr",
     "output_type": "stream",
     "text": [
      "WARNING: could not import Meshes.coordinates into Simple1DMesh\n",
      "WARNING: could not import Meshes.boundary into Simple1DMesh\n",
      "WARNING: could not import Meshes.coordinates into PolytopalMesh\n",
      "WARNING: could not import Meshes.boundary into PolytopalMesh\n",
      "WARNING: static parameter id does not occur in signature for Type at /home/tehrengruber/.julia/v0.6/TipiFEM/src/polytopal_mesh/cell.jl:69.\n",
      "The method will not be callable.\n"
     ]
    },
    {
     "name": "stdout",
     "output_type": "stream",
     "text": [
      "Polytope\"3-node triangle\"\n",
      "do it\n"
     ]
    },
    {
     "data": {
      "text/plain": [
       "@EPT(Mesh{Polytope\"3-node triangle\", 2, Float64})(\u001b[1m4 element MeshFunction Polytope\"1-node point\" → FixedSizeArrays.Vec{2,Float64}\n",
       "(1,Vec(0.0,0.0))\n",
       "(2,Vec(1.0,0.0))\n",
       "(3,Vec(0.0,1.0))\n",
       "(4,Vec(0.4999999999983159,0.5000000000016841))\n",
       ",MeshTopology{TipiFEM.PolytopalMesh.Polytope{2}}\n",
       " 0  0  0 \n",
       " 0  0  0 \n",
       " 1  0  0 \n",
       ",Any[],Dict{Symbol,Any}())"
      ]
     },
     "execution_count": 1,
     "metadata": {},
     "output_type": "execute_result"
    }
   ],
   "source": [
    "using Gmsh, TipiFEM, TipiFEM.Meshes, TipiFEM.PolytopalMesh\n",
    "msh = load(\"/home/tehrengruber/.julia/v0.5/Gmsh/assets/triangle.msh\", mesh_dim=2, world_dim=2)"
   ]
  },
  {
   "cell_type": "code",
   "execution_count": 5,
   "metadata": {
    "collapsed": false
   },
   "outputs": [
    {
     "name": "stdout",
     "output_type": "stream",
     "text": [
      "Variables:\n",
      "  #self#::TipiFEM.Meshes.#cells\n",
      "  mesh::TipiFEM.Meshes.Mesh{Polytope\"3-node triangle\",2,Float64,TipiFEM.Meshes.MeshFunction{UnitRange{TipiFEM.Meshes.Index{Polytope\"1-node point\"}},Array{FixedSizeArrays.Vec{2,Float64},1}},@EPT(MeshTopology{Polytope\"3-node triangle\"})}\n",
      "\n",
      "Body:\n",
      "  begin \n",
      "      return (TipiFEM.Meshes.connectivity)(mesh::TipiFEM.Meshes.Mesh{Polytope\"3-node triangle\",2,Float64,TipiFEM.Meshes.MeshFunction{UnitRange{TipiFEM.Meshes.Index{Polytope\"1-node point\"}},Array{FixedSizeArrays.Vec{2,Float64},1}},@EPT(MeshTopology{Polytope\"3-node triangle\"})},((Core.apply_type)(TipiFEM.Meshes.Dim,($(Expr(:invoke, MethodInstance for getindex(::SimpleVector, ::Int64), :(TipiFEM.Meshes.getindex), :((Core.getfield)(@EPT(Mesh{Polytope\"3-node triangle\", 2, Float64}),:parameters)::SimpleVector), 2)) - $(QuoteNode(0)))\u001b[1m\u001b[31m::Any\u001b[0m)\u001b[1m\u001b[31m::Type{_<:TipiFEM.Meshes.Dim}\u001b[0m)()\u001b[1m\u001b[31m::TipiFEM.Meshes.Dim{i}\u001b[0m,$(QuoteNode(TipiFEM.Meshes.Dim{0}())))\u001b[1m\u001b[31m::Any\u001b[0m\n",
      "  end\u001b[1m\u001b[31m::Any\u001b[0m\n"
     ]
    }
   ],
   "source": [
    "a = () -> for conn in Meshes.cells(msh)\n",
    "    println(cell_type(conn))\n",
    "end\n",
    "@code_warntype Meshes.cells(msh)"
   ]
  },
  {
   "cell_type": "code",
   "execution_count": 9,
   "metadata": {
    "collapsed": false
   },
   "outputs": [
    {
     "name": "stdout",
     "output_type": "stream",
     "text": [
      "search: \u001b[1mG\u001b[22m\u001b[1me\u001b[22m\u001b[1mo\u001b[22m\u001b[1mm\u001b[22m\u001b[1me\u001b[22m\u001b[1mt\u001b[22m\u001b[1mr\u001b[22m\u001b[1my\u001b[22m\n",
      "\n"
     ]
    },
    {
     "data": {
      "text/markdown": [
       "No documentation found.\n",
       "\n",
       "**Summary:**\n",
       "\n",
       "```\n",
       "type TipiFEM.Meshes.Geometry{K<:TipiFEM.Meshes.Cell,REAL_<:Real,__SUPER_PT_1,__SUPER_PT_2,____T} <: FixedSizeArrays.FixedArray{__SUPER_PT_2,1,Tuple{__SUPER_PT_1}}\n",
       "```\n",
       "\n",
       "**Fields:**\n",
       "\n",
       "```\n",
       "_ :: ____T\n",
       "```\n"
      ],
      "text/plain": [
       "No documentation found.\n",
       "\n",
       "**Summary:**\n",
       "\n",
       "```\n",
       "type TipiFEM.Meshes.Geometry{K<:TipiFEM.Meshes.Cell,REAL_<:Real,__SUPER_PT_1,__SUPER_PT_2,____T} <: FixedSizeArrays.FixedArray{__SUPER_PT_2,1,Tuple{__SUPER_PT_1}}\n",
       "```\n",
       "\n",
       "**Fields:**\n",
       "\n",
       "```\n",
       "_ :: ____T\n",
       "```\n"
      ]
     },
     "execution_count": 9,
     "metadata": {},
     "output_type": "execute_result"
    }
   ],
   "source": [
    "Geometry{cell_type(conn)}()"
   ]
  },
  {
   "cell_type": "code",
   "execution_count": 2,
   "metadata": {
    "collapsed": false
   },
   "outputs": [
    {
     "ename": "LoadError",
     "evalue": "MethodError: no method matching dirname()\u001b[0m\nClosest candidates are:\n  dirname(\u001b[1m\u001b[31m::AbstractString\u001b[0m) at path.jl:121\u001b[0m",
     "output_type": "error",
     "traceback": [
      "MethodError: no method matching dirname()\u001b[0m\nClosest candidates are:\n  dirname(\u001b[1m\u001b[31m::AbstractString\u001b[0m) at path.jl:121\u001b[0m",
      ""
     ]
    }
   ],
   "source": [
    "Base.dirname()"
   ]
  },
  {
   "cell_type": "code",
   "execution_count": 1,
   "metadata": {
    "collapsed": true
   },
   "outputs": [],
   "source": [
    "using PyPlot"
   ]
  },
  {
   "cell_type": "code",
   "execution_count": 4,
   "metadata": {
    "collapsed": false
   },
   "outputs": [
    {
     "data": {
      "text/plain": [
       "32-element Array{Array{Float64,1},1}:\n",
       " [0.0,0.0]    \n",
       " [0.0,0.25]   \n",
       " [1.0,0.0]    \n",
       " [0.75,0.0]   \n",
       " [0.0,1.0]    \n",
       " [0.125,0.875]\n",
       " [0.0,0.5]    \n",
       " [0.0,0.75]   \n",
       " [0.0,0.25]   \n",
       " [0.0,0.5]    \n",
       " [0.0,0.75]   \n",
       " [0.0,1.0]    \n",
       " [0.5,0.5]    \n",
       " ⋮            \n",
       " [0.375,0.625]\n",
       " [0.5,0.5]    \n",
       " [0.625,0.375]\n",
       " [0.75,0.25]  \n",
       " [0.875,0.125]\n",
       " [1.0,0.0]    \n",
       " [0.5,0.0]    \n",
       " [0.25,0.0]   \n",
       " [0.75,0.0]   \n",
       " [0.5,0.0]    \n",
       " [0.25,0.0]   \n",
       " [0.0,0.0]    "
      ]
     },
     "execution_count": 4,
     "metadata": {},
     "output_type": "execute_result"
    }
   ],
   "source": [
    "arr=[\n",
    "[0.0, 0.0], [0.0, 0.25],\n",
    "[1.0, 0.0], [0.75, 0.0],\n",
    "[0.0, 1.0], [0.125, 0.875],\n",
    "[0.0, 0.5], [0.0, 0.75],\n",
    "[0.0, 0.25], [0.0, 0.5],\n",
    "[0.0, 0.75], [0.0, 1.0],\n",
    "[0.5, 0.5], [0.625, 0.375],\n",
    "[0.25, 0.75], [0.375, 0.625],\n",
    "[0.75, 0.25], [0.875, 0.125],\n",
    "[0.125, 0.875], [0.25, 0.75],\n",
    "[0.375, 0.625], [0.5, 0.5],\n",
    "[0.625, 0.375], [0.75, 0.25],\n",
    "[0.875, 0.125], [1.0, 0.0],\n",
    "[0.5, 0.0], [0.25, 0.0],\n",
    "[0.75, 0.0], [0.5, 0.0],\n",
    "[0.25, 0.0], [0.0, 0.0]\n",
    "]"
   ]
  },
  {
   "cell_type": "code",
   "execution_count": 6,
   "metadata": {
    "collapsed": false
   },
   "outputs": [],
   "source": [
    "x=zeros(length(arr))\n",
    "y=zeros(length(arr))\n",
    "for a in arr\n",
    "    push!(x, a[1])\n",
    "    push!(y, a[2])\n",
    "end"
   ]
  },
  {
   "cell_type": "code",
   "execution_count": 8,
   "metadata": {
    "collapsed": false
   },
   "outputs": [
    {
     "data": {
      "image/png": "[encoded data removed]",
      "text/plain": [
       "PyPlot.Figure(PyObject <matplotlib.figure.Figure object at 0x7fb82f08aed0>)"
      ]
     },
     "metadata": {},
     "output_type": "display_data"
    },
    {
     "data": {
      "text/plain": [
       "1-element Array{Any,1}:\n",
       " PyObject <matplotlib.lines.Line2D object at 0x7fb82efb08d0>"
      ]
     },
     "execution_count": 8,
     "metadata": {},
     "output_type": "execute_result"
    }
   ],
   "source": [
    "plot(x, y, \".\")"
   ]
  },
  {
   "cell_type": "code",
   "execution_count": null,
   "metadata": {
    "collapsed": true
   },
   "outputs": [],
   "source": []
  }
 ],
 "metadata": {
  "anaconda-cloud": {},
  "kernelspec": {
   "display_name": "Julia 0.5.1-pre",
   "language": "julia",
   "name": "julia-0.5"
  },
  "language_info": {
   "file_extension": ".jl",
   "mimetype": "application/julia",
   "name": "julia",
   "version": "0.5.1"
  }
 },
 "nbformat": 4,
 "nbformat_minor": 1
}
